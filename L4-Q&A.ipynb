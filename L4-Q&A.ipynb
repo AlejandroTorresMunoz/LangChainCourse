{
 "cells": [
  {
   "cell_type": "markdown",
   "id": "eca7d0e8",
   "metadata": {},
   "source": [
    "# LangChain: Q&A over Documents\n",
    "\n",
    "An example might be a tool that would allow you to query a product catalog for items of interest."
   ]
  },
  {
   "cell_type": "code",
   "execution_count": 1,
   "id": "6fcf1615",
   "metadata": {},
   "outputs": [
    {
     "name": "stdout",
     "output_type": "stream",
     "text": [
      "Collecting docarray\n",
      "  Downloading docarray-0.41.0-py3-none-any.whl (302 kB)\n",
      "     -------------------------------------- 302.8/302.8 kB 6.2 MB/s eta 0:00:00\n",
      "Requirement already satisfied: numpy>=1.17.3 in c:\\users\\aleja\\desktop\\dev\\langchaincourse\\venv\\lib\\site-packages (from docarray) (2.3.1)\n",
      "Requirement already satisfied: orjson>=3.8.2 in c:\\users\\aleja\\desktop\\dev\\langchaincourse\\venv\\lib\\site-packages (from docarray) (3.10.18)\n",
      "Requirement already satisfied: pydantic>=1.10.8 in c:\\users\\aleja\\desktop\\dev\\langchaincourse\\venv\\lib\\site-packages (from docarray) (2.11.7)\n",
      "Collecting rich>=13.1.0\n",
      "  Downloading rich-14.2.0-py3-none-any.whl (243 kB)\n",
      "     ------------------------------------- 243.4/243.4 kB 14.6 MB/s eta 0:00:00\n",
      "Collecting types-requests>=2.28.11.6\n",
      "  Downloading types_requests-2.32.4.20250913-py3-none-any.whl (20 kB)\n",
      "Requirement already satisfied: typing-inspect>=0.8.0 in c:\\users\\aleja\\desktop\\dev\\langchaincourse\\venv\\lib\\site-packages (from docarray) (0.9.0)\n",
      "Requirement already satisfied: annotated-types>=0.6.0 in c:\\users\\aleja\\desktop\\dev\\langchaincourse\\venv\\lib\\site-packages (from pydantic>=1.10.8->docarray) (0.7.0)\n",
      "Requirement already satisfied: pydantic-core==2.33.2 in c:\\users\\aleja\\desktop\\dev\\langchaincourse\\venv\\lib\\site-packages (from pydantic>=1.10.8->docarray) (2.33.2)\n",
      "Requirement already satisfied: typing-extensions>=4.12.2 in c:\\users\\aleja\\desktop\\dev\\langchaincourse\\venv\\lib\\site-packages (from pydantic>=1.10.8->docarray) (4.14.1)\n",
      "Requirement already satisfied: typing-inspection>=0.4.0 in c:\\users\\aleja\\desktop\\dev\\langchaincourse\\venv\\lib\\site-packages (from pydantic>=1.10.8->docarray) (0.4.1)\n",
      "Collecting markdown-it-py>=2.2.0\n",
      "  Downloading markdown_it_py-4.0.0-py3-none-any.whl (87 kB)\n",
      "     ---------------------------------------- 87.3/87.3 kB 4.8 MB/s eta 0:00:00\n",
      "Requirement already satisfied: pygments<3.0.0,>=2.13.0 in c:\\users\\aleja\\desktop\\dev\\langchaincourse\\venv\\lib\\site-packages (from rich>=13.1.0->docarray) (2.19.2)\n",
      "Requirement already satisfied: urllib3>=2 in c:\\users\\aleja\\desktop\\dev\\langchaincourse\\venv\\lib\\site-packages (from types-requests>=2.28.11.6->docarray) (2.5.0)\n",
      "Requirement already satisfied: mypy-extensions>=0.3.0 in c:\\users\\aleja\\desktop\\dev\\langchaincourse\\venv\\lib\\site-packages (from typing-inspect>=0.8.0->docarray) (1.1.0)\n",
      "Collecting mdurl~=0.1\n",
      "  Downloading mdurl-0.1.2-py3-none-any.whl (10.0 kB)\n",
      "Installing collected packages: types-requests, mdurl, markdown-it-py, rich, docarray\n",
      "Successfully installed docarray-0.41.0 markdown-it-py-4.0.0 mdurl-0.1.2 rich-14.2.0 types-requests-2.32.4.20250913\n"
     ]
    },
    {
     "name": "stderr",
     "output_type": "stream",
     "text": [
      "\n",
      "[notice] A new release of pip available: 22.3 -> 25.2\n",
      "[notice] To update, run: python.exe -m pip install --upgrade pip\n"
     ]
    }
   ],
   "source": [
    "!pip install docarray"
   ]
  },
  {
   "cell_type": "markdown",
   "id": "27304b4a",
   "metadata": {},
   "source": [
    "We are going to load a CSV file containing a catalog. We have to use the model used to create the embeddings for the `nomic-embed-text` model(better than `qwen2.5:3b`), creating a vector store index. Make sure that `nomic-embed-text` is installed in your Ollama enviroment."
   ]
  },
  {
   "cell_type": "code",
   "execution_count": 18,
   "id": "93967064",
   "metadata": {},
   "outputs": [
    {
     "name": "stdout",
     "output_type": "stream",
     "text": [
      "Here is a summary of the two shirts with sun protection features listed in a Markdown format:\n",
      "\n",
      "| Shirt Name | Description |\n",
      "|-------------|--------------|\n",
      "| Sun Shield Shirt by [Brand] | The high-performance sun shirt from [Brand], made of 78% nylon and 22% Lycra Xtra Life fiber, providing UPF 50+ rated protection. Features include quick-drying comfort, moisture-wicking, abrasion resistance, and a slightly fitted design that falls at the hip. |\n",
      "| Women's Tropical Tee | A sleeveless button-up shirt with a fit to flatter and built-in SunSmart™ UPF 50+ protection. Made of 71% nylon and 29% polyester shell fabric with a cape lining made of 100% polyester, it features wrinkle resistance, low-profile pockets, side shaping for a more flattering fit, front and back cape venting, two front pockets, tool tabs, and an eyewear loop. |\n",
      "\n",
      "Both shirts provide high-performance sun protection (UPF 50+) to block 98% of the sun's harmful rays. They are both machine washable and dryable, with wrinkle-resistant features for convenience.\n"
     ]
    }
   ],
   "source": [
    "from langchain.document_loaders import CSVLoader\n",
    "from langchain.indexes import VectorstoreIndexCreator\n",
    "from langchain_community.llms.ollama import Ollama\n",
    "from langchain.embeddings import OllamaEmbeddings\n",
    "from langchain.vectorstores import DocArrayInMemorySearch\n",
    "\n",
    "# Load LLM model\n",
    "llm = Ollama(model=\"qwen2.5:3b\", temperature=0)\n",
    "\n",
    "# Load file\n",
    "file = \"OutdoorClothingCatalog_1000.csv\"\n",
    "loader = CSVLoader(file_path=file, encoding=\"utf-8\")\n",
    "embeddings = OllamaEmbeddings(model=\"nomic-embed-text\")\n",
    "index = VectorstoreIndexCreator(\n",
    "    vectorstore_cls=DocArrayInMemorySearch,\n",
    "    embedding=embeddings,\n",
    ").from_loaders([loader])\n",
    "# Create a query\n",
    "query =\"Please list all your shirts with sun protection \\\n",
    "in a table in markdown and summarize each one.\"\n",
    "response = index.query(query, llm=llm)\n",
    "print(response)\n"
   ]
  },
  {
   "cell_type": "markdown",
   "id": "2e8d915b",
   "metadata": {},
   "source": [
    "Next step is to create the database of the index as a retriever, an object that will return the `k` most similar documents given an input query. These documents are going to be feed to the LLM model."
   ]
  },
  {
   "cell_type": "code",
   "execution_count": 21,
   "id": "af44496c",
   "metadata": {},
   "outputs": [
    {
     "name": "stderr",
     "output_type": "stream",
     "text": [
      "C:\\Users\\aleja\\AppData\\Local\\Temp\\ipykernel_19572\\2792446497.py:16: LangChainDeprecationWarning: The method `Chain.__call__` was deprecated in langchain 0.1.0 and will be removed in 1.0. Use :meth:`~invoke` instead.\n",
      "  result = retrieval_qa({\"query\": query})\n"
     ]
    },
    {
     "name": "stdout",
     "output_type": "stream",
     "text": [
      "| Name | Sun Protection Rating |\n",
      "| --- | --- |\n",
      "| Women's Tropical Tee, Sleeveless | UPF 50+ |\n",
      "| Sun Shield Shirt by | UPF 50+ |\n",
      "| Sunrise Tee | UPF 50+ |\n",
      "| Men's Tropical Plaid Short-Sleeve Shirt | UPF 50+ |\n",
      "| Men's Plaid Tropic Shirt, Short-Sleeve | UPF 50+ |\n",
      "\n",
      "Note: The exact rating for \"Sun Shield Shirt by\" is not specified in the provided context. Therefore, I've used \"UPF 50+\" as a placeholder since it matches all other shirts listed.\n"
     ]
    }
   ],
   "source": [
    "from langchain.chains import RetrievalQA\n",
    "\n",
    "docs = loader.load()\n",
    "db = DocArrayInMemorySearch.from_documents(\n",
    "    docs, \n",
    "    embeddings\n",
    ")\n",
    "retriever = db.as_retriever(search_type=\"similarity\", search_kwargs={\"k\": 5})\n",
    "retrieval_qa = RetrievalQA.from_chain_type(\n",
    "    llm=llm,\n",
    "    chain_type=\"stuff\",\n",
    "    retriever=retriever,\n",
    "    return_source_documents=True\n",
    ")\n",
    "query = \"List shirts with sun protection in markdown table\"\n",
    "result = retrieval_qa({\"query\": query})\n",
    "print(result['result'])"
   ]
  }
 ],
 "metadata": {
  "kernelspec": {
   "display_name": "venv",
   "language": "python",
   "name": "python3"
  },
  "language_info": {
   "codemirror_mode": {
    "name": "ipython",
    "version": 3
   },
   "file_extension": ".py",
   "mimetype": "text/x-python",
   "name": "python",
   "nbconvert_exporter": "python",
   "pygments_lexer": "ipython3",
   "version": "3.11.0"
  }
 },
 "nbformat": 4,
 "nbformat_minor": 5
}
